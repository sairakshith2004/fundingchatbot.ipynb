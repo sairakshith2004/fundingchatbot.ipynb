{
  "nbformat": 4,
  "nbformat_minor": 0,
  "metadata": {
    "colab": {
      "provenance": [],
      "include_colab_link": true
    },
    "kernelspec": {
      "name": "python3",
      "display_name": "Python 3"
    },
    "language_info": {
      "name": "python"
    }
  },
  "cells": [
    {
      "cell_type": "markdown",
      "metadata": {
        "id": "view-in-github",
        "colab_type": "text"
      },
      "source": [
        "<a href=\"https://colab.research.google.com/github/sairakshith2004/fundingchatbot.ipynb/blob/main/Copy_of_fundingchatbot.ipynb\" target=\"_parent\"><img src=\"https://colab.research.google.com/assets/colab-badge.svg\" alt=\"Open In Colab\"/></a>"
      ]
    },
    {
      "cell_type": "code",
      "source": [
        "!pip install fuzzywuzzy[speedup]\n"
      ],
      "metadata": {
        "colab": {
          "base_uri": "https://localhost:8080/"
        },
        "id": "gU8DrzZTDZMN",
        "outputId": "31538bc2-3c76-45a2-c99f-4fba7d1d103b"
      },
      "execution_count": null,
      "outputs": [
        {
          "output_type": "stream",
          "name": "stdout",
          "text": [
            "Collecting fuzzywuzzy[speedup]\n",
            "  Downloading fuzzywuzzy-0.18.0-py2.py3-none-any.whl.metadata (4.9 kB)\n",
            "Collecting python-levenshtein>=0.12 (from fuzzywuzzy[speedup])\n",
            "  Downloading python_levenshtein-0.27.1-py3-none-any.whl.metadata (3.7 kB)\n",
            "Collecting Levenshtein==0.27.1 (from python-levenshtein>=0.12->fuzzywuzzy[speedup])\n",
            "  Downloading levenshtein-0.27.1-cp311-cp311-manylinux_2_17_x86_64.manylinux2014_x86_64.whl.metadata (3.6 kB)\n",
            "Collecting rapidfuzz<4.0.0,>=3.9.0 (from Levenshtein==0.27.1->python-levenshtein>=0.12->fuzzywuzzy[speedup])\n",
            "  Downloading rapidfuzz-3.13.0-cp311-cp311-manylinux_2_17_x86_64.manylinux2014_x86_64.whl.metadata (12 kB)\n",
            "Downloading python_levenshtein-0.27.1-py3-none-any.whl (9.4 kB)\n",
            "Downloading levenshtein-0.27.1-cp311-cp311-manylinux_2_17_x86_64.manylinux2014_x86_64.whl (161 kB)\n",
            "\u001b[2K   \u001b[90m━━━━━━━━━━━━━━━━━━━━━━━━━━━━━━━━━━━━━━━━\u001b[0m \u001b[32m161.7/161.7 kB\u001b[0m \u001b[31m3.2 MB/s\u001b[0m eta \u001b[36m0:00:00\u001b[0m\n",
            "\u001b[?25hDownloading fuzzywuzzy-0.18.0-py2.py3-none-any.whl (18 kB)\n",
            "Downloading rapidfuzz-3.13.0-cp311-cp311-manylinux_2_17_x86_64.manylinux2014_x86_64.whl (3.1 MB)\n",
            "\u001b[2K   \u001b[90m━━━━━━━━━━━━━━━━━━━━━━━━━━━━━━━━━━━━━━━━\u001b[0m \u001b[32m3.1/3.1 MB\u001b[0m \u001b[31m40.5 MB/s\u001b[0m eta \u001b[36m0:00:00\u001b[0m\n",
            "\u001b[?25hInstalling collected packages: fuzzywuzzy, rapidfuzz, Levenshtein, python-levenshtein\n",
            "Successfully installed Levenshtein-0.27.1 fuzzywuzzy-0.18.0 python-levenshtein-0.27.1 rapidfuzz-3.13.0\n"
          ]
        }
      ]
    },
    {
      "cell_type": "code",
      "source": [
        "from google.colab import files\n",
        "uploaded = files.upload()\n"
      ],
      "metadata": {
        "colab": {
          "base_uri": "https://localhost:8080/",
          "height": 108
        },
        "id": "36X5wTPjDee_",
        "outputId": "8cf94736-a038-4447-b408-9da4445a4069"
      },
      "execution_count": null,
      "outputs": [
        {
          "output_type": "display_data",
          "data": {
            "text/plain": [
              "<IPython.core.display.HTML object>"
            ],
            "text/html": [
              "\n",
              "     <input type=\"file\" id=\"files-012bbb75-d7dd-4ffc-9677-29782b68988c\" name=\"files[]\" multiple disabled\n",
              "        style=\"border:none\" />\n",
              "     <output id=\"result-012bbb75-d7dd-4ffc-9677-29782b68988c\">\n",
              "      Upload widget is only available when the cell has been executed in the\n",
              "      current browser session. Please rerun this cell to enable.\n",
              "      </output>\n",
              "      <script>// Copyright 2017 Google LLC\n",
              "//\n",
              "// Licensed under the Apache License, Version 2.0 (the \"License\");\n",
              "// you may not use this file except in compliance with the License.\n",
              "// You may obtain a copy of the License at\n",
              "//\n",
              "//      http://www.apache.org/licenses/LICENSE-2.0\n",
              "//\n",
              "// Unless required by applicable law or agreed to in writing, software\n",
              "// distributed under the License is distributed on an \"AS IS\" BASIS,\n",
              "// WITHOUT WARRANTIES OR CONDITIONS OF ANY KIND, either express or implied.\n",
              "// See the License for the specific language governing permissions and\n",
              "// limitations under the License.\n",
              "\n",
              "/**\n",
              " * @fileoverview Helpers for google.colab Python module.\n",
              " */\n",
              "(function(scope) {\n",
              "function span(text, styleAttributes = {}) {\n",
              "  const element = document.createElement('span');\n",
              "  element.textContent = text;\n",
              "  for (const key of Object.keys(styleAttributes)) {\n",
              "    element.style[key] = styleAttributes[key];\n",
              "  }\n",
              "  return element;\n",
              "}\n",
              "\n",
              "// Max number of bytes which will be uploaded at a time.\n",
              "const MAX_PAYLOAD_SIZE = 100 * 1024;\n",
              "\n",
              "function _uploadFiles(inputId, outputId) {\n",
              "  const steps = uploadFilesStep(inputId, outputId);\n",
              "  const outputElement = document.getElementById(outputId);\n",
              "  // Cache steps on the outputElement to make it available for the next call\n",
              "  // to uploadFilesContinue from Python.\n",
              "  outputElement.steps = steps;\n",
              "\n",
              "  return _uploadFilesContinue(outputId);\n",
              "}\n",
              "\n",
              "// This is roughly an async generator (not supported in the browser yet),\n",
              "// where there are multiple asynchronous steps and the Python side is going\n",
              "// to poll for completion of each step.\n",
              "// This uses a Promise to block the python side on completion of each step,\n",
              "// then passes the result of the previous step as the input to the next step.\n",
              "function _uploadFilesContinue(outputId) {\n",
              "  const outputElement = document.getElementById(outputId);\n",
              "  const steps = outputElement.steps;\n",
              "\n",
              "  const next = steps.next(outputElement.lastPromiseValue);\n",
              "  return Promise.resolve(next.value.promise).then((value) => {\n",
              "    // Cache the last promise value to make it available to the next\n",
              "    // step of the generator.\n",
              "    outputElement.lastPromiseValue = value;\n",
              "    return next.value.response;\n",
              "  });\n",
              "}\n",
              "\n",
              "/**\n",
              " * Generator function which is called between each async step of the upload\n",
              " * process.\n",
              " * @param {string} inputId Element ID of the input file picker element.\n",
              " * @param {string} outputId Element ID of the output display.\n",
              " * @return {!Iterable<!Object>} Iterable of next steps.\n",
              " */\n",
              "function* uploadFilesStep(inputId, outputId) {\n",
              "  const inputElement = document.getElementById(inputId);\n",
              "  inputElement.disabled = false;\n",
              "\n",
              "  const outputElement = document.getElementById(outputId);\n",
              "  outputElement.innerHTML = '';\n",
              "\n",
              "  const pickedPromise = new Promise((resolve) => {\n",
              "    inputElement.addEventListener('change', (e) => {\n",
              "      resolve(e.target.files);\n",
              "    });\n",
              "  });\n",
              "\n",
              "  const cancel = document.createElement('button');\n",
              "  inputElement.parentElement.appendChild(cancel);\n",
              "  cancel.textContent = 'Cancel upload';\n",
              "  const cancelPromise = new Promise((resolve) => {\n",
              "    cancel.onclick = () => {\n",
              "      resolve(null);\n",
              "    };\n",
              "  });\n",
              "\n",
              "  // Wait for the user to pick the files.\n",
              "  const files = yield {\n",
              "    promise: Promise.race([pickedPromise, cancelPromise]),\n",
              "    response: {\n",
              "      action: 'starting',\n",
              "    }\n",
              "  };\n",
              "\n",
              "  cancel.remove();\n",
              "\n",
              "  // Disable the input element since further picks are not allowed.\n",
              "  inputElement.disabled = true;\n",
              "\n",
              "  if (!files) {\n",
              "    return {\n",
              "      response: {\n",
              "        action: 'complete',\n",
              "      }\n",
              "    };\n",
              "  }\n",
              "\n",
              "  for (const file of files) {\n",
              "    const li = document.createElement('li');\n",
              "    li.append(span(file.name, {fontWeight: 'bold'}));\n",
              "    li.append(span(\n",
              "        `(${file.type || 'n/a'}) - ${file.size} bytes, ` +\n",
              "        `last modified: ${\n",
              "            file.lastModifiedDate ? file.lastModifiedDate.toLocaleDateString() :\n",
              "                                    'n/a'} - `));\n",
              "    const percent = span('0% done');\n",
              "    li.appendChild(percent);\n",
              "\n",
              "    outputElement.appendChild(li);\n",
              "\n",
              "    const fileDataPromise = new Promise((resolve) => {\n",
              "      const reader = new FileReader();\n",
              "      reader.onload = (e) => {\n",
              "        resolve(e.target.result);\n",
              "      };\n",
              "      reader.readAsArrayBuffer(file);\n",
              "    });\n",
              "    // Wait for the data to be ready.\n",
              "    let fileData = yield {\n",
              "      promise: fileDataPromise,\n",
              "      response: {\n",
              "        action: 'continue',\n",
              "      }\n",
              "    };\n",
              "\n",
              "    // Use a chunked sending to avoid message size limits. See b/62115660.\n",
              "    let position = 0;\n",
              "    do {\n",
              "      const length = Math.min(fileData.byteLength - position, MAX_PAYLOAD_SIZE);\n",
              "      const chunk = new Uint8Array(fileData, position, length);\n",
              "      position += length;\n",
              "\n",
              "      const base64 = btoa(String.fromCharCode.apply(null, chunk));\n",
              "      yield {\n",
              "        response: {\n",
              "          action: 'append',\n",
              "          file: file.name,\n",
              "          data: base64,\n",
              "        },\n",
              "      };\n",
              "\n",
              "      let percentDone = fileData.byteLength === 0 ?\n",
              "          100 :\n",
              "          Math.round((position / fileData.byteLength) * 100);\n",
              "      percent.textContent = `${percentDone}% done`;\n",
              "\n",
              "    } while (position < fileData.byteLength);\n",
              "  }\n",
              "\n",
              "  // All done.\n",
              "  yield {\n",
              "    response: {\n",
              "      action: 'complete',\n",
              "    }\n",
              "  };\n",
              "}\n",
              "\n",
              "scope.google = scope.google || {};\n",
              "scope.google.colab = scope.google.colab || {};\n",
              "scope.google.colab._files = {\n",
              "  _uploadFiles,\n",
              "  _uploadFilesContinue,\n",
              "};\n",
              "})(self);\n",
              "</script> "
            ]
          },
          "metadata": {}
        },
        {
          "output_type": "stream",
          "name": "stdout",
          "text": [
            "Saving funders_apply_steps.txt to funders_apply_steps (1).txt\n",
            "Saving funders_info.txt to funders_info (1).txt\n"
          ]
        }
      ]
    },
    {
      "cell_type": "code",
      "source": [
        "import nltk\n",
        "nltk.download('punkt')\n",
        "nltk.download('stopwords')\n"
      ],
      "metadata": {
        "colab": {
          "base_uri": "https://localhost:8080/"
        },
        "id": "MsXHQabrDoJQ",
        "outputId": "02762cc0-69be-4b34-b39f-2f405c63cfe6"
      },
      "execution_count": null,
      "outputs": [
        {
          "output_type": "stream",
          "name": "stderr",
          "text": [
            "[nltk_data] Downloading package punkt to /root/nltk_data...\n",
            "[nltk_data]   Unzipping tokenizers/punkt.zip.\n",
            "[nltk_data] Downloading package stopwords to /root/nltk_data...\n",
            "[nltk_data]   Unzipping corpora/stopwords.zip.\n"
          ]
        },
        {
          "output_type": "execute_result",
          "data": {
            "text/plain": [
              "True"
            ]
          },
          "metadata": {},
          "execution_count": 3
        }
      ]
    },
    {
      "cell_type": "code",
      "source": [
        "import nltk\n",
        "nltk.download('punkt')\n",
        "nltk.download('punkt_tab')\n",
        "nltk.download('stopwords')\n"
      ],
      "metadata": {
        "colab": {
          "base_uri": "https://localhost:8080/"
        },
        "id": "Dd75lPBqEXVi",
        "outputId": "a8e07775-b43d-42b0-90ee-16a00f3e5295"
      },
      "execution_count": null,
      "outputs": [
        {
          "output_type": "stream",
          "name": "stderr",
          "text": [
            "[nltk_data] Downloading package punkt to /root/nltk_data...\n",
            "[nltk_data]   Package punkt is already up-to-date!\n",
            "[nltk_data] Downloading package punkt_tab to /root/nltk_data...\n",
            "[nltk_data]   Unzipping tokenizers/punkt_tab.zip.\n",
            "[nltk_data] Downloading package stopwords to /root/nltk_data...\n",
            "[nltk_data]   Package stopwords is already up-to-date!\n"
          ]
        },
        {
          "output_type": "execute_result",
          "data": {
            "text/plain": [
              "True"
            ]
          },
          "metadata": {},
          "execution_count": 5
        }
      ]
    },
    {
      "cell_type": "code",
      "execution_count": null,
      "metadata": {
        "colab": {
          "base_uri": "https://localhost:8080/"
        },
        "id": "MlGcSN8ACo0d",
        "outputId": "84f09043-2ef3-4757-ca58-1791dfa3ba64"
      },
      "outputs": [
        {
          "output_type": "stream",
          "name": "stdout",
          "text": [
            "Requirement already satisfied: fuzzywuzzy in /usr/local/lib/python3.11/dist-packages (0.18.0)\n"
          ]
        },
        {
          "output_type": "stream",
          "name": "stderr",
          "text": [
            "[nltk_data] Downloading package punkt to /root/nltk_data...\n",
            "[nltk_data]   Package punkt is already up-to-date!\n",
            "[nltk_data] Downloading package stopwords to /root/nltk_data...\n",
            "[nltk_data]   Package stopwords is already up-to-date!\n"
          ]
        },
        {
          "output_type": "stream",
          "name": "stdout",
          "text": [
            "Hello! I'm your project funding assistant. I'm here to help you find funding institutions in India based on your project ideas.\n",
            "Just describe your project briefly, and I’ll recommend potential funders based on the area it falls under (e.g., technology, environment, healthcare, education, agriculture).\n",
            "\n",
            "Tell me about your project idea: agriculture\n",
            "\n",
            "Based on your project, here are some potential funders in India:\n",
            "- National Bank for Agriculture and Rural Development (NABARD)\n",
            "- Agri Innovation Fund\n",
            "- AgriTech India\n",
            "- Indian Council of Agricultural Research (ICAR)\n",
            "- Tata Chemicals Society for Rural Development\n",
            "\n",
            "Would you like to know more about any of these institutions? If yes, please type the institution name (or type 'no'): no\n",
            "\n",
            "Would you like to search for more funders? (yes/no): no\n",
            "Goodbye! Best of luck with your project!\n"
          ]
        }
      ],
      "source": [
        "import nltk\n",
        "from nltk.corpus import stopwords\n",
        "from nltk.tokenize import word_tokenize\n",
        "!pip install fuzzywuzzy\n",
        "from fuzzywuzzy import fuzz, process\n",
        "nltk.download('punkt')\n",
        "nltk.download('stopwords')\n",
        "funders = {\n",
        "    \"technology\": [\"Department of Science and Technology (DST)\", \"NASSCOM Foundation\", \"Indian Angel Network\", \"Startup India Seed Fund\", \"Tech India Ventures\"],\n",
        "    \"environment\": [\"Tata Trusts (Sustainability)\", \"ONGC CSR for Environmental Projects\",\"Sustainable India Finance Facility\", \"India Climate Collaborative (ICC)\", \"Green India Mission\"],\n",
        "    \"healthcare\": [\"Indian Council of Medical Research (ICMR)\", \"Biotechnology Industry Research Assistance Council (BIRAC)\", \"Tata Trusts (Healthcare)\", \"HCL Foundation (Healthcare Projects)\", \"Bill & Melinda Gates Foundation (India)\"],\n",
        "    \"education\": [\"Central Square Foundation\", \"Azim Premji Foundation\", \"Infosys Foundation\", \"Teach for India\", \"Ratan Tata Trust (Education)\"],\n",
        "    \"agriculture\": [\"National Bank for Agriculture and Rural Development (NABARD)\", \"Agri Innovation Fund\", \"AgriTech India\", \"Indian Council of Agricultural Research (ICAR)\", \"Tata Chemicals Society for Rural Development\"]\n",
        "}\n",
        "category_keywords = {\n",
        "    \"technology\": [\"technology\", \"tech\", \"software\", \"hardware\", \"artificial intelligence\", \"data science\"],\n",
        "    \"environment\": [\"environment\", \"climate\", \"sustainability\", \"green\", \"renewable\", \"ecology\"],\n",
        "    \"healthcare\": [\"health\", \"medicine\", \"medical\", \"pharmaceutical\", \"biotech\", \"biotechnology\", \"hospital\", \"healthcare\"],\n",
        "    \"education\": [\"education\", \"school\", \"learning\", \"students\", \"teaching\", \"university\", \"edtech\"],\n",
        "    \"agriculture\": [\"agriculture\", \"farming\", \"food\", \"crops\", \"farm\", \"rural\", \"agribusiness\", \"agrifood\", \"agritech\"]\n",
        "}\n",
        "\n",
        "def preprocess_input(text):\n",
        "    tokens = word_tokenize(text.lower())\n",
        "    stop_words = set(stopwords.words('english'))\n",
        "    filtered_tokens = [word for word in tokens if word.isalnum() and word not in stop_words]\n",
        "    return filtered_tokens\n",
        "\n",
        "def match_funders_nltk(tokens):\n",
        "    matched_funders = []\n",
        "    for category, keywords in category_keywords.items():\n",
        "        if any(token in keywords for token in tokens):\n",
        "            matched_funders.append(funders[category])\n",
        "    if not matched_funders:\n",
        "        all_keywords = [keyword for sublist in category_keywords.values() for keyword in sublist]\n",
        "        suggested_keywords = process.extract(\" \".join(tokens), all_keywords, scorer=fuzz.partial_ratio)\n",
        "        if suggested_keywords:\n",
        "            print(\"\\nIt looks like you're describing something similar to these areas:\")\n",
        "            for suggestion in suggested_keywords[:3]:\n",
        "                print(f\"- {suggestion[0]}\")\n",
        "            print(\"Try adjusting your project description based on these terms for better matches.\")\n",
        "        return None\n",
        "    return [item for sublist in matched_funders for item in sublist] if matched_funders else None\n",
        "\n",
        "def get_institution_info(institution_name):\n",
        "    try:\n",
        "        with open('/content/drive/MyDrive/funders_info.txt', 'r') as file:\n",
        "            lines = file.readlines()\n",
        "            info = []\n",
        "            start_reading = False\n",
        "            for line in lines:\n",
        "                if institution_name.lower() in line.lower():\n",
        "                    start_reading = True\n",
        "                    info.append(line.strip())  # Add the institution name\n",
        "                elif start_reading:\n",
        "                    if line.strip() == \"\":  # Stop reading when encountering an empty line (end of section)\n",
        "                        break\n",
        "                    info.append(line.strip())  # Add the institution's details\n",
        "            return \"\\n\".join(info) if info else \"No additional information found.\"\n",
        "    except FileNotFoundError:\n",
        "        return \"Sorry, I couldn't find the detailed information file.\"\n",
        "\n",
        "def get_application_steps(institution_name):\n",
        "    try:\n",
        "        with open('/content/drive/MyDrive/funders_apply_steps.txt', 'r') as file:\n",
        "            lines = file.readlines()\n",
        "            steps = []\n",
        "            start_reading = False\n",
        "            for line in lines:\n",
        "                if institution_name.lower() in line.lower():\n",
        "                    start_reading = True\n",
        "                    steps.append(line.strip())  # Add the institution name\n",
        "                elif start_reading:\n",
        "                    if line.strip() == \"\":\n",
        "                        break\n",
        "                    steps.append(line.strip())  # Add the application steps\n",
        "            return \"\\n\".join(steps) if steps else \"No application steps found.\"\n",
        "    except FileNotFoundError:\n",
        "        return \"Sorry, I couldn't find the application steps file.\"\n",
        "\n",
        "def chatbot_greeting():\n",
        "    print(\"Hello! I'm your project funding assistant. I'm here to help you find funding institutions in India based on your project ideas.\")\n",
        "    print(\"Just describe your project briefly, and I’ll recommend potential funders based on the area it falls under (e.g., technology, environment, healthcare, education, agriculture).\")\n",
        "\n",
        "def funding_chatbot_nltk():\n",
        "    chatbot_greeting()\n",
        "    while True:\n",
        "        project_idea = input(\"\\nTell me about your project idea: \")\n",
        "        if project_idea.lower() == \"exit\":\n",
        "            print(\"Goodbye! I hope you found the information helpful. Feel free to return anytime.\")\n",
        "            break\n",
        "        tokens = preprocess_input(project_idea)\n",
        "        matching_funders = match_funders_nltk(tokens)\n",
        "        if matching_funders:\n",
        "            print(\"\\nBased on your project, here are some potential funders in India:\")\n",
        "            for funder in matching_funders:\n",
        "                print(f\"- {funder}\")\n",
        "            user_response = input(\"\\nWould you like to know more about any of these institutions? If yes, please type the institution name (or type 'no'): \").strip()\n",
        "            if user_response.lower() != 'no':\n",
        "                institution_info = get_institution_info(user_response)\n",
        "                print(f\"\\nHere is the detailed information about {user_response}:\\n{institution_info}\")\n",
        "                apply_response = input(\"\\nWould you like to know how to apply for this institution? (yes/no): \").strip().lower()\n",
        "                if apply_response == 'yes':\n",
        "                    application_steps = get_application_steps(user_response)\n",
        "                    print(f\"\\nHere are the steps to apply for {user_response}:\\n{application_steps}\")\n",
        "        else:\n",
        "            print(\"Sorry, I couldn't find any funders that match your project area. Maybe try describing it differently?\")\n",
        "        continue_chat = input(\"\\nWould you like to search for more funders? (yes/no): \").strip().lower()\n",
        "\n",
        "        if continue_chat != 'yes':\n",
        "            print(\"Goodbye! Best of luck with your project!\")\n",
        "            break\n",
        "funding_chatbot_nltk()"
      ]
    }
  ]
}